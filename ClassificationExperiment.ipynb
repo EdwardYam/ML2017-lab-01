{
 "cells": [
  {
   "cell_type": "code",
   "execution_count": 1,
   "metadata": {
    "collapsed": true
   },
   "outputs": [],
   "source": [
    "#coding: utf-8"
   ]
  },
  {
   "cell_type": "code",
   "execution_count": 2,
   "metadata": {
    "collapsed": true
   },
   "outputs": [],
   "source": [
    "import numpy as np\n",
    "\n",
    "from sklearn.externals.joblib import Memory\n",
    "from sklearn.datasets import load_svmlight_file\n",
    "from sklearn.model_selection import train_test_split\n",
    "from sklearn.metrics import classification_report\n",
    "\n",
    "from numpy import random\n",
    "\n",
    "import matplotlib as mpl\n",
    "import matplotlib.pyplot as plt"
   ]
  },
  {
   "cell_type": "code",
   "execution_count": 3,
   "metadata": {
    "collapsed": true
   },
   "outputs": [],
   "source": [
    "def get_data(filename):\n",
    "    data = load_svmlight_file(filename)\n",
    "    return data[0], data[1]"
   ]
  },
  {
   "cell_type": "code",
   "execution_count": 4,
   "metadata": {
    "collapsed": false
   },
   "outputs": [
    {
     "name": "stdout",
     "output_type": "stream",
     "text": [
      "(690, 14)\n",
      "(690,)\n"
     ]
    }
   ],
   "source": [
    "iters = 500\n",
    "X, y = get_data(\"australian_scale.txt\")\n",
    "print(X.shape)\n",
    "print(y.shape)"
   ]
  },
  {
   "cell_type": "code",
   "execution_count": 5,
   "metadata": {
    "collapsed": false
   },
   "outputs": [
    {
     "name": "stdout",
     "output_type": "stream",
     "text": [
      "(483, 14)\n",
      "(207, 14)\n",
      "(483,)\n",
      "(207,)\n",
      "<class 'numpy.ndarray'>\n",
      "<class 'numpy.ndarray'>\n",
      "<class 'numpy.ndarray'>\n",
      "<class 'numpy.ndarray'>\n"
     ]
    }
   ],
   "source": [
    "X_train, X_test, y_train, y_test = train_test_split(X, y, test_size=0.3)\n",
    "\n",
    "print(X_train.shape)\n",
    "print(X_test.shape)\n",
    "print(y_train.shape)\n",
    "print(y_test.shape)\n",
    "\n",
    "X_train = X_train.toarray()\n",
    "X_test = X_test.toarray()\n",
    "print(type(X_train))\n",
    "print(type(X_test))\n",
    "print(type(y_train))\n",
    "print(type(y_test))"
   ]
  },
  {
   "cell_type": "code",
   "execution_count": 6,
   "metadata": {
    "collapsed": false
   },
   "outputs": [],
   "source": [
    "# def train(X_train, X_test, y_train, y_test):\n",
    "#     C = 1\n",
    "#     a = 0.0001\n",
    "    \n",
    "#     train_loss = []\n",
    "#     dev_loss = []\n",
    "    \n",
    "#     app = np.ones(X_train.shape[0]).reshape(-1, 1)\n",
    "#     X_train = np.append(X_train,app,axis=1)\n",
    "    \n",
    "#     app_test = np.ones(X_test.shape[0]).reshape(-1, 1)\n",
    "#     X_test = np.append(X_test,app_test,axis=1)\n",
    "#     weight = random.random(size=(X_train.shape[1], 1))\n",
    "#     for i in range(iters):\n",
    "#         y_ = np.dot(X_train, weight)\n",
    "#         cn_tmp = 1 - y_train.reshape(-1, 1) * y_      \n",
    "#         cn_tmp[cn_tmp < 0] = 0\n",
    "#         loss = np.sum(cn_tmp, axis=0)\n",
    "#         loss = C * loss / X_train.shape[0]\n",
    "#         train_loss.append(loss[0])\n",
    "        \n",
    "#         y_test = np.dot(X_test, weight)\n",
    "#         cn_tmp_test = 1 - y_test.reshape(-1, 1) * y_test      \n",
    "#         cn_tmp_test[cn_tmp_test < 0] = 0\n",
    "#         test_loss = np.sum(cn_tmp_test, axis=0)\n",
    "#         test_loss = C * test_loss / X_test.shape[0]\n",
    "#         dev_loss.append(test_loss[0])\n",
    "        \n",
    "#         tmp = 1 - y_train.reshape(-1, 1) * y_\n",
    "#         d = 0\n",
    "#         for j in range(0, X_train.shape[0]):\n",
    "#             if(tmp[j] > 0):\n",
    "#                 d = d - (y_train[j].reshape(-1, 1) * X_train[j].reshape(-1, 1))\n",
    "#         weight = weight - a * d\n",
    "#     return train_loss, dev_loss, weight"
   ]
  },
  {
   "cell_type": "code",
   "execution_count": 7,
   "metadata": {
    "collapsed": false
   },
   "outputs": [],
   "source": [
    "def train(X_train, X_test, y_train, y_test):\n",
    "    C = 1\n",
    "    a = 0.1\n",
    "    \n",
    "    train_loss = []\n",
    "    dev_loss = []\n",
    "    \n",
    "    app = np.ones(X_train.shape[0]).reshape(-1, 1)\n",
    "    X_train = np.append(X_train,app,axis=1)\n",
    "    \n",
    "    app_test = np.ones(X_test.shape[0]).reshape(-1, 1)\n",
    "    X_test = np.append(X_test,app_test,axis=1)\n",
    "    weight = random.random(size=(X_train.shape[1], 1))\n",
    "    for i in range(iters):\n",
    "        y_ = np.dot(X_train, weight)\n",
    "        cn_tmp = 1 - y_train.reshape(-1, 1) * y_      \n",
    "        cn_tmp[cn_tmp < 0] = 0\n",
    "        \n",
    "        w = np.sum(np.power(weight, 2))\n",
    "        \n",
    "        loss = np.sum(cn_tmp, axis=0)\n",
    "        loss = C * loss / X_train.shape[0] + w / 2\n",
    "        train_loss.append(loss[0])\n",
    "        \n",
    "        y_test = np.dot(X_test, weight)\n",
    "        cn_tmp_test = 1 - y_test.reshape(-1, 1) * y_test      \n",
    "        cn_tmp_test[cn_tmp_test < 0] = 0\n",
    "        test_loss = np.sum(cn_tmp_test, axis=0)\n",
    "        test_loss = C * test_loss / X_test.shape[0] + w/2\n",
    "        dev_loss.append(test_loss[0])\n",
    "        \n",
    "        tmp = 1 - y_train.reshape(-1, 1) * y_\n",
    "        tmp[tmp > 0] = 1\n",
    "        tmp[tmp <= 0] = 0\n",
    "        \n",
    "#         d = 0\n",
    "#         for j in range(0, X_train.shape[0]):\n",
    "#             if(tmp[j] > 0):\n",
    "#                 d = d - (y_train[j].reshape(-1, 1) * X_train[j].reshape(-1, 1))\n",
    "#         d =  weight + C * d / X_train.shape[0]\n",
    "\n",
    "        d = y_train.reshape(-1, 1) * X_train\n",
    "        d = d * tmp\n",
    "        d = -np.mean(d, axis=0)\n",
    "        d =  weight + C * d.reshape(-1, 1)\n",
    "        weight = weight - a * d\n",
    "    return train_loss, dev_loss, weight"
   ]
  },
  {
   "cell_type": "code",
   "execution_count": 8,
   "metadata": {
    "collapsed": false
   },
   "outputs": [],
   "source": [
    "train_loss, dev_loss, weight = train(X_train, X_test, y_train, y_test)"
   ]
  },
  {
   "cell_type": "code",
   "execution_count": 9,
   "metadata": {
    "collapsed": false
   },
   "outputs": [
    {
     "data": {
      "image/png": "[encoded data removed]",
      "text/plain": [
       "<matplotlib.figure.Figure at 0x1dba8252c50>"
      ]
     },
     "metadata": {},
     "output_type": "display_data"
    }
   ],
   "source": [
    "%matplotlib inline\n",
    "plot_x = np.linspace(1, iters, iters)\n",
    "train_loss = np.array(train_loss)\n",
    "dev_loss = np.array(dev_loss)\n",
    "plt.figure(1)\n",
    "plt.plot(plot_x, train_loss, label=\"training loss\")\n",
    "plt.plot(plot_x, dev_loss, label=\"validation loss\")\n",
    "plt.legend(loc=\"upper right\")\n",
    "plt.xlabel('Iterations')\n",
    "plt.ylabel('Loss')\n",
    "plt.show()"
   ]
  },
  {
   "cell_type": "code",
   "execution_count": 10,
   "metadata": {
    "collapsed": true
   },
   "outputs": [],
   "source": [
    "def predict(X):\n",
    "    threshold = 0\n",
    "    app = np.ones(X.shape[0]).reshape(-1, 1)\n",
    "    X = np.append(X,app,axis=1)\n",
    "    y_ = np.dot(X, weight)\n",
    "    y_[y_ < threshold] = -1\n",
    "    y_[y_ >= threshold] = 1\n",
    "    return y_"
   ]
  },
  {
   "cell_type": "code",
   "execution_count": 11,
   "metadata": {
    "collapsed": false
   },
   "outputs": [
    {
     "name": "stdout",
     "output_type": "stream",
     "text": [
      "             precision    recall  f1-score   support\n",
      "\n",
      "    class 1       0.93      0.81      0.87       117\n",
      "    class 2       0.79      0.92      0.85        90\n",
      "\n",
      "avg / total       0.87      0.86      0.86       207\n",
      "\n"
     ]
    }
   ],
   "source": [
    "ytest_ = predict(X_test)\n",
    "target_names = ['class 1', 'class 2']\n",
    "print(classification_report(y_test, ytest_.T[0], target_names=target_names))"
   ]
  },
  {
   "cell_type": "code",
   "execution_count": null,
   "metadata": {
    "collapsed": true
   },
   "outputs": [],
   "source": []
  }
 ],
 "metadata": {
  "anaconda-cloud": {},
  "kernelspec": {
   "display_name": "Python [Root]",
   "language": "python",
   "name": "Python [Root]"
  },
  "language_info": {
   "codemirror_mode": {
    "name": "ipython",
    "version": 3
   },
   "file_extension": ".py",
   "mimetype": "text/x-python",
   "name": "python",
   "nbconvert_exporter": "python",
   "pygments_lexer": "ipython3",
   "version": "3.5.2"
  }
 },
 "nbformat": 4,
 "nbformat_minor": 2
}
